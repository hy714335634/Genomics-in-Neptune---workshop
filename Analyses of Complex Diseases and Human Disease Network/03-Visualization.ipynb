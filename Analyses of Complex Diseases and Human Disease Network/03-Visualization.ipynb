{
 "cells": [
  {
   "cell_type": "markdown",
   "metadata": {},
   "source": [
    "# 初始化Graph插件参数"
   ]
  },
  {
   "cell_type": "code",
   "execution_count": 67,
   "metadata": {},
   "outputs": [],
   "source": [
    "%%graph_notebook_vis_options\n",
    "{\n",
    "  \"nodes\": {\n",
    "    \"borderWidthSelected\": 0,\n",
    "    \"borderWidth\": 0,\n",
    "    \"color\": {\n",
    "      \"background\": \"rgba(210, 229, 255, 1)\",\n",
    "      \"border\": \"transparent\",\n",
    "      \"highlight\": {\n",
    "        \"background\": \"rgba(9, 104, 178, 1)\",\n",
    "        \"border\": \"rgba(8, 62, 100, 1)\"\n",
    "      }\n",
    "    },\n",
    "    \"shadow\": {\n",
    "      \"enabled\": false\n",
    "    },\n",
    "    \"shape\": \"circle\",\n",
    "    \"widthConstraint\": {\n",
    "      \"minimum\": 30,\n",
    "      \"maximum\": 70\n",
    "    },\n",
    "    \"font\": {\n",
    "      \"face\": \"courier new\",\n",
    "      \"color\": \"black\",\n",
    "      \"size\": 12\n",
    "    }\n",
    "  },\n",
    "  \"edges\": {\n",
    "    \"color\": {\n",
    "      \"inherit\": false\n",
    "    },\n",
    "    \"smooth\": {\n",
    "      \"enabled\": true,\n",
    "      \"type\": \"straightCross\"\n",
    "    },\n",
    "    \"arrows\": {\n",
    "      \"to\": {\n",
    "        \"enabled\": true,\n",
    "        \"type\": \"arrow\"\n",
    "      }\n",
    "    },\n",
    "    \"font\": {\n",
    "      \"face\": \"courier new\"\n",
    "    }\n",
    "  },\n",
    "  \"interaction\": {\n",
    "    \"hover\": true,\n",
    "    \"hoverConnectedEdges\": true,\n",
    "    \"selectConnectedEdges\": false\n",
    "  },\n",
    "  \"physics\": {\n",
    "    \"minVelocity\": 0.75,\n",
    "    \"barnesHut\": {\n",
    "      \"centralGravity\": 0.1,\n",
    "      \"gravitationalConstant\": -30450,\n",
    "      \"springLength\": 105,\n",
    "      \"springConstant\": 0.04,\n",
    "      \"damping\": 0.09,\n",
    "      \"avoidOverlap\": 0.5\n",
    "    },\n",
    "    \"solver\": \"barnesHut\",\n",
    "    \"enabled\": true,\n",
    "    \"adaptiveTimestep\": true,\n",
    "    \"stabilization\": {\n",
    "      \"enabled\": true,\n",
    "      \"iterations\": 1\n",
    "    }\n",
    "  }\n",
    "}\n"
   ]
  },
  {
   "attachments": {},
   "cell_type": "markdown",
   "metadata": {},
   "source": [
    "# 借助图数据库进行关联查询\n",
    "\n",
    "## CHPO可视化\n",
    "\n",
    "### 在特定表型分类下，查询不同表型之间的关联\n",
    "由于实体间的关系是 ***Phenotypic->PhenotypicCategory->Term*** , 所以对Term来说要查询表型, 需要递归 **in** 关系的节点, 通过 **repeat** 操作可重复查询 **in** 节点，再通过 **until** 限定终止条件为:\n",
    "+ 表型的中文名为 **['脑肉芽肿','肺炎','酒后面部潮红','牙龈出血']** 四者之一<br/>\n",
    "\n",
    "从表型来看四者分别描述的人体不同部位，但从查询结果来看四者之间有一定关联，且相关性有差异，如 **\"牙龈出血\"** 和 **\"脑肉芽肿\"** 都属于 **\"血液和造血组织异常\"** 分类，相关性更近。\n",
    "![example](https://raw.githubusercontent.com/hy714335634/Genomics-in-Neptune---workshop/main/Analyses%20of%20Complex%20Diseases%20and%20Human%20Disease%20Network/Img/WX20201207-202658.png)"
   ]
  },
  {
   "cell_type": "code",
   "execution_count": 1,
   "metadata": {},
   "outputs": [
    {
     "data": {
      "application/vnd.jupyter.widget-view+json": {
       "model_id": "e44ada90ffeb4b5181a6424c27dc22f4",
       "version_major": 2,
       "version_minor": 0
      },
      "text/plain": [
       "Tab(children=(Output(layout=Layout(max_height='600px', overflow='scroll', width='100%')), Force(network=<graph…"
      ]
     },
     "metadata": {},
     "output_type": "display_data"
    }
   ],
   "source": [
    "%%gremlin -p v,v,v\n",
    "g.V(\"表型异常\").hasLabel('Term')\n",
    ".repeat(\n",
    "    in()\n",
    ")\n",
    ".until(\n",
    "    has('name_cn',within('脑肉芽肿','肺炎','酒后面部潮红','牙龈出血'))\n",
    ")\n",
    ".simplepath()\n",
    ".by(id)\n",
    ".by(id)\n",
    ".by('name_cn')\n"
   ]
  },
  {
   "attachments": {},
   "cell_type": "markdown",
   "metadata": {},
   "source": [
    "### 查询不同表型之间的关联\n",
    "表型分类与表型之间存在着多对多的关系，所以从已知表型出发查询关系也是有必要的，下面的示例是从表型出发，分别查找不同表型所属的分类。\n",
    "从结果来看:\n",
    "+ **结膜炎** 、**结膜血管迂曲** 、**视网膜萎缩** 均与 **眼睛的异常** 相关\n",
    "+ **结膜炎** 、**结膜血管迂曲** 均和 **头或颈部异常** 相关\n",
    "+ **结膜炎** 、**结膜血管迂曲** 分别和 **免疫系统异常** 、 **心血管系统异常** 相关\n",
    "\n",
    "从“结膜血管迂曲”表型出发，查询该表型关联的表型分类\n",
    "![example](https://raw.githubusercontent.com/hy714335634/Genomics-in-Neptune---workshop/main/Analyses%20of%20Complex%20Diseases%20and%20Human%20Disease%20Network/Img/WX20201207-202801.png)"
   ]
  },
  {
   "cell_type": "code",
   "execution_count": 2,
   "metadata": {},
   "outputs": [
    {
     "data": {
      "application/vnd.jupyter.widget-view+json": {
       "model_id": "62bbac64007a49f0a430b124faa7345f",
       "version_major": 2,
       "version_minor": 0
      },
      "text/plain": [
       "Tab(children=(Output(layout=Layout(max_height='600px', overflow='scroll', width='100%')), Force(network=<graph…"
      ]
     },
     "metadata": {},
     "output_type": "display_data"
    }
   ],
   "source": [
    "%%gremlin -p v,v,v\n",
    "g.V().hasLabel('Phenotypic').has('name_cn',within('结膜血管迂曲','结膜炎','视网膜萎缩'))\n",
    ".repeat(\n",
    "    out()\n",
    ")\n",
    ".until(hasLabel('PhenotypicCategory'))\n",
    ".simplepath()\n",
    ".by('name_cn')\n",
    ".by(id)\n",
    ".by(id)"
   ]
  },
  {
   "attachments": {},
   "cell_type": "markdown",
   "metadata": {},
   "source": [
    "## CHPO结合OMIM可视化分析\n",
    "### 统计查找阿尔茨海默病相关基因，以及表型所属的分类\n",
    "![example](https://raw.githubusercontent.com/hy714335634/Genomics-in-Neptune---workshop/main/Analyses%20of%20Complex%20Diseases%20and%20Human%20Disease%20Network/Img/WX20201207-202846.png)"
   ]
  },
  {
   "cell_type": "code",
   "execution_count": 3,
   "metadata": {
    "scrolled": true
   },
   "outputs": [
    {
     "data": {
      "application/vnd.jupyter.widget-view+json": {
       "model_id": "0f19ba7fcf7148d49ea7772b787307fc",
       "version_major": 2,
       "version_minor": 0
      },
      "text/plain": [
       "Tab(children=(Output(layout=Layout(max_height='600px', overflow='scroll', width='100%')),), _titles={'0': 'Con…"
      ]
     },
     "metadata": {},
     "output_type": "display_data"
    }
   ],
   "source": [
    "%%gremlin -p v,outv,outv,outv\n",
    "g.V().has('OMIM','disease_name_cn',containing('阿尔茨海默病'))\n",
    ".out()\n",
    ".groupCount('Gene').by(id)\n",
    ".repeat(out())\n",
    ".until(\n",
    "    hasLabel('PhenotypicCategory')\n",
    ")\n",
    ".groupCount('PhenotypicCategory').by(id)\n",
    ".cap('Gene','PhenotypicCategory')\n",
    ".unfold()\n"
   ]
  },
  {
   "attachments": {},
   "cell_type": "markdown",
   "metadata": {},
   "source": [
    "与阿尔兹海默症相关联的基因查找\n",
    "![example](https://raw.githubusercontent.com/hy714335634/Genomics-in-Neptune---workshop/main/Analyses%20of%20Complex%20Diseases%20and%20Human%20Disease%20Network/Img/WX20201207-202922.png)"
   ]
  },
  {
   "cell_type": "code",
   "execution_count": 66,
   "metadata": {},
   "outputs": [
    {
     "data": {
      "application/vnd.jupyter.widget-view+json": {
       "model_id": "722957359d854e5faba18f2b81ae1a2f",
       "version_major": 2,
       "version_minor": 0
      },
      "text/plain": [
       "Tab(children=(Output(layout=Layout(max_height='600px', overflow='scroll', width='100%')), Force(network=<graph…"
      ]
     },
     "metadata": {},
     "output_type": "display_data"
    }
   ],
   "source": [
    "%%gremlin -p v,outv\n",
    "g.V().has('OMIM','disease_name_cn',containing('阿尔茨海默病'))\n",
    ".out()\n",
    ".simplepath()\n",
    ".by('disease_name_cn')\n",
    ".by(id)"
   ]
  },
  {
   "attachments": {},
   "cell_type": "markdown",
   "metadata": {},
   "source": [
    "我们看到与 **阿尔茨海默病** 相关的Gene主要是 **[APP,SORL1,PSEN1,PSEN2]** ,我们也可以尝试查询这几个基因分别与哪些疾病表型相关，包括这些表型的分类\n",
    "![example](https://raw.githubusercontent.com/hy714335634/Genomics-in-Neptune---workshop/main/Analyses%20of%20Complex%20Diseases%20and%20Human%20Disease%20Network/Img/WX20201207-203058.png)"
   ]
  },
  {
   "cell_type": "code",
   "execution_count": 65,
   "metadata": {
    "scrolled": false
   },
   "outputs": [
    {
     "data": {
      "application/vnd.jupyter.widget-view+json": {
       "model_id": "7d60a088906a4275b51517039154bf37",
       "version_major": 2,
       "version_minor": 0
      },
      "text/plain": [
       "Tab(children=(Output(layout=Layout(max_height='600px', overflow='scroll', width='100%')), Force(network=<graph…"
      ]
     },
     "metadata": {},
     "output_type": "display_data"
    }
   ],
   "source": [
    "%%gremlin -p v,outv,outv,outv\n",
    "g.V().hasId(within('PSEN1','PSEN2','SORL1','APP'))\n",
    ".repeat(out())\n",
    ".until(hasLabel('PhenotypicCategory'))\n",
    ".simplepath()\n",
    ".by(id)\n",
    ".by('name_cn')\n",
    ".by(id)\n",
    ".limit(150)\n"
   ]
  },
  {
   "attachments": {},
   "cell_type": "markdown",
   "metadata": {},
   "source": [
    "**['PSEN1','PSEN2','SORL1','APP']** 这几个基因关联到的表型中，分类于 **神经系统异常** 的最多，其次 **心血管系统的异常**\n",
    "![example](https://raw.githubusercontent.com/hy714335634/Genomics-in-Neptune---workshop/main/Analyses%20of%20Complex%20Diseases%20and%20Human%20Disease%20Network/Img/WX20201207-203133.png)"
   ]
  },
  {
   "cell_type": "code",
   "execution_count": 6,
   "metadata": {
    "scrolled": false
   },
   "outputs": [
    {
     "data": {
      "application/vnd.jupyter.widget-view+json": {
       "model_id": "114a3a67428d446193947a8019841a5e",
       "version_major": 2,
       "version_minor": 0
      },
      "text/plain": [
       "Tab(children=(Output(layout=Layout(max_height='600px', overflow='scroll', width='100%')),), _titles={'0': 'Con…"
      ]
     },
     "metadata": {},
     "output_type": "display_data"
    }
   ],
   "source": [
    "%%gremlin -p v,outv,outv,outv\n",
    "g.V().hasId(within('PSEN1','PSEN2','SORL1','APP'))\n",
    ".repeat(out())\n",
    ".until(hasLabel('PhenotypicCategory'))\n",
    ".groupCount()\n",
    ".by(id)\n",
    ".order(Scope.local).by(values, Order.decr)\n",
    ".unfold()"
   ]
  },
  {
   "attachments": {},
   "cell_type": "markdown",
   "metadata": {},
   "source": [
    "在上面的例子中我们会发现，有很多疾病、表型只与某一个gene相关，而我们想找的是共同基因变异引起的疾病/表型，我们可以按照如下方式查询，结果中显示的每个表型至少与 **[APP,SORL1,PSEN1,PSEN2]** 中的任意两个有关联\n",
    "![example](https://raw.githubusercontent.com/hy714335634/Genomics-in-Neptune---workshop/main/Analyses%20of%20Complex%20Diseases%20and%20Human%20Disease%20Network/Img/WX20201207-203249.png)"
   ]
  },
  {
   "cell_type": "code",
   "execution_count": 63,
   "metadata": {
    "scrolled": false
   },
   "outputs": [
    {
     "data": {
      "application/vnd.jupyter.widget-view+json": {
       "model_id": "f963c7c0dfdc41f8bd07a0a218ae6196",
       "version_major": 2,
       "version_minor": 0
      },
      "text/plain": [
       "Tab(children=(Output(layout=Layout(max_height='600px', overflow='scroll', width='100%')), Force(network=<graph…"
      ]
     },
     "metadata": {},
     "output_type": "display_data"
    }
   ],
   "source": [
    "%%gremlin -p v,outv,outv,outv\n",
    "g.V().hasId(within('PSEN1','PSEN2','SORL1','APP')).as('sg').aggregate('gene')\n",
    ".out()\n",
    ".in()\n",
    ".where(P.within('gene')).where(P.neq('sg'))\n",
    ".simplepath()\n",
    ".by(id)\n",
    ".by('name_cn')\n",
    ".by(id)\n"
   ]
  }
 ],
 "metadata": {
  "kernelspec": {
   "display_name": "Python 3",
   "language": "python",
   "name": "python3"
  },
  "language_info": {
   "codemirror_mode": {
    "name": "ipython",
    "version": 3
   },
   "file_extension": ".py",
   "mimetype": "text/x-python",
   "name": "python",
   "nbconvert_exporter": "python",
   "pygments_lexer": "ipython3",
   "version": "3.7.9"
  }
 },
 "nbformat": 4,
 "nbformat_minor": 4
}
