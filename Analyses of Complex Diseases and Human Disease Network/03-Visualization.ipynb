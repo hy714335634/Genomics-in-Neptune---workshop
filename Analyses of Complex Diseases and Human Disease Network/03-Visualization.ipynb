{
 "cells": [
  {
   "cell_type": "markdown",
   "metadata": {},
   "source": [
    "# 借助图数据库进行关联查询\n",
    "\n",
    "## CHPO可视化\n",
    "\n",
    "### 在特定表型分类下，查询不同表型之间的关联\n",
    "由于实体间的关系是 ***Phenotypic->PhenotypicCategory->Term*** , 所以对Term来说要查询表型, 需要递归 **in** 关系的节点, 通过 **repeat** 操作可重复查询 **in** 节点，再通过 **until** 限定终止条件为:\n",
    "+ 表型的中文名为['脑肉芽肿','肺炎','酒后面部潮红','牙龈出血']四者之一<br/>\n",
    "\n",
    "从表型来看四者分别描述的人体不同部位，但从查询结果来看四者之间有一定关联，且相关性有差异，如 **\"牙龈出血\"** 和 **\"脑肉芽肿\"** 都属于 **\"血液和造血组织异常\"** 分类，相关性更近。"
   ]
  },
  {
   "cell_type": "code",
   "execution_count": 1,
   "metadata": {},
   "outputs": [
    {
     "data": {
      "application/vnd.jupyter.widget-view+json": {
       "model_id": "16762630876745028d27f25835c0638b",
       "version_major": 2,
       "version_minor": 0
      },
      "text/plain": [
       "Tab(children=(Output(layout=Layout(max_height='600px', overflow='scroll', width='100%')), Force(network=<graph…"
      ]
     },
     "metadata": {},
     "output_type": "display_data"
    }
   ],
   "source": [
    "%%gremlin -p v,v,v\n",
    "g.V(\"表型异常\").hasLabel('Term')\n",
    ".repeat(\n",
    "    in()\n",
    ")\n",
    ".until(\n",
    "    has('name_cn',within('脑肉芽肿','肺炎','酒后面部潮红','牙龈出血'))\n",
    ")\n",
    ".simplepath()\n",
    ".by(id)\n",
    ".by(id)\n",
    ".by('name_cn')\n"
   ]
  },
  {
   "cell_type": "markdown",
   "metadata": {},
   "source": [
    "### 查询不同表型之间的关联\n",
    "表型分类与表型之间存在着多对多的关系，所以从已知表型出发查询关系也是有必要的，下面的示例是从表型出发，分别查找不同表型所属的分类。\n",
    "从结果来看:\n",
    "+ **结膜炎** 、**结膜血管迂曲** 、**视网膜萎缩** 均与 **眼睛的异常** 相关\n",
    "+ **结膜炎** 、**结膜血管迂曲** 均和 **头或颈部异常** 相关\n",
    "+ **结膜炎** 、**结膜血管迂曲** 分别和 **免疫系统异常** 、 **心血管系统异常** 相关"
   ]
  },
  {
   "cell_type": "code",
   "execution_count": 2,
   "metadata": {},
   "outputs": [
    {
     "data": {
      "application/vnd.jupyter.widget-view+json": {
       "model_id": "428b50ceadd144ef98f25ff7f6db2865",
       "version_major": 2,
       "version_minor": 0
      },
      "text/plain": [
       "Tab(children=(Output(layout=Layout(max_height='600px', overflow='scroll', width='100%')), Force(network=<graph…"
      ]
     },
     "metadata": {},
     "output_type": "display_data"
    }
   ],
   "source": [
    "%%gremlin -p v,v,v\n",
    "g.V().hasLabel('Phenotypic').has('name_cn',within('结膜血管迂曲','结膜炎','视网膜萎缩'))\n",
    ".repeat(\n",
    "    out()\n",
    ")\n",
    ".until(hasLabel('PhenotypicCategory'))\n",
    ".simplepath()\n",
    ".by('name_cn')\n",
    ".by(id)\n",
    ".by(id)\n",
    "\n",
    "// 从“结膜血管迂曲”表型出发，查询该表型关联的表型分类"
   ]
  },
  {
   "cell_type": "code",
   "execution_count": 8,
   "metadata": {},
   "outputs": [
    {
     "data": {
      "application/vnd.jupyter.widget-view+json": {
       "model_id": "2cbe3f7b5f464b6e9e1f22fd2ee51526",
       "version_major": 2,
       "version_minor": 0
      },
      "text/plain": [
       "Tab(children=(Output(layout=Layout(max_height='600px', overflow='scroll', width='100%')),), _titles={'0': 'Con…"
      ]
     },
     "metadata": {},
     "output_type": "display_data"
    }
   ],
   "source": [
    "%%gremlin -p v\n",
    "g.V(\"遗传模式\").hasLabel('PhenotypicCategory').in().values(\"name_cn\")"
   ]
  },
  {
   "cell_type": "code",
   "execution_count": 59,
   "metadata": {},
   "outputs": [
    {
     "data": {
      "application/vnd.jupyter.widget-view+json": {
       "model_id": "c1a4fae14a3b4e228c161eb5c3fa6d11",
       "version_major": 2,
       "version_minor": 0
      },
      "text/plain": [
       "Tab(children=(Output(layout=Layout(max_height='600px', overflow='scroll', width='100%')),), _titles={'0': 'Con…"
      ]
     },
     "metadata": {},
     "output_type": "display_data"
    }
   ],
   "source": [
    "%%gremlin\n",
    "g.V().count()"
   ]
  },
  {
   "cell_type": "code",
   "execution_count": 62,
   "metadata": {},
   "outputs": [
    {
     "data": {
      "application/vnd.jupyter.widget-view+json": {
       "model_id": "65f782403db64424be2964b7178ba65b",
       "version_major": 2,
       "version_minor": 0
      },
      "text/plain": [
       "Tab(children=(Output(layout=Layout(max_height='600px', overflow='scroll', width='100%')),), _titles={'0': 'Con…"
      ]
     },
     "metadata": {},
     "output_type": "display_data"
    }
   ],
   "source": [
    "%%gremlin\n",
    "g.E().hasLabel(\"gene_to_phenotypes\").count()"
   ]
  },
  {
   "cell_type": "code",
   "execution_count": null,
   "metadata": {},
   "outputs": [],
   "source": []
  }
 ],
 "metadata": {
  "kernelspec": {
   "display_name": "Python 3",
   "language": "python",
   "name": "python3"
  },
  "language_info": {
   "codemirror_mode": {
    "name": "ipython",
    "version": 3
   },
   "file_extension": ".py",
   "mimetype": "text/x-python",
   "name": "python",
   "nbconvert_exporter": "python",
   "pygments_lexer": "ipython3",
   "version": "3.7.9"
  }
 },
 "nbformat": 4,
 "nbformat_minor": 4
}
