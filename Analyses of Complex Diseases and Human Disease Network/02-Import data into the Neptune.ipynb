{
 "cells": [
  {
   "cell_type": "markdown",
   "metadata": {},
   "source": [
    "# 导入数据到AWS Neptune\n",
    "数据导入的方式主要有四种：\n",
    "+ 通过SDK导入,目前支持Java,Python,.Net,Node.js\n",
    "+ 通过Https REST API与数据库进行交互\n",
    "+ 通过DMS服务导入数据\n",
    "+ 通过Neptune Loader批量导入数据，支持csv(Gremlin), ntriples, nquads, rdfxml, turtle (RDF)格式\n",
    "\n",
    "本文介绍如何通过SDK与AWS Neptune进行交互并导入测试数据"
   ]
  },
  {
   "cell_type": "markdown",
   "metadata": {},
   "source": [
    "# 安装必要包\n",
    "通过Python连接到 Amazon Neptune 数据库实例并执行 Gremlin遍历需要安装gremlinpython包, 请确保正确安装，如采用的workshop提供的docker image则默认已安装。\n",
    "```\n",
    "pip install gremlinpython ‑‑user\n",
    "```\n",
    "导入必要包"
   ]
  },
  {
   "cell_type": "code",
   "execution_count": 12,
   "metadata": {},
   "outputs": [],
   "source": [
    "from gremlin_python import statics\n",
    "from gremlin_python.process.anonymous_traversal import traversal\n",
    "from gremlin_python.process.graph_traversal import __\n",
    "from gremlin_python.process.strategies import *\n",
    "from gremlin_python.driver.driver_remote_connection import DriverRemoteConnection\n",
    "from gremlin_python.process.traversal import T\n",
    "from gremlin_python.process.traversal import Order\n",
    "from gremlin_python.process.traversal import Cardinality\n",
    "from gremlin_python.process.traversal import Column\n",
    "from gremlin_python.process.traversal import Direction\n",
    "from gremlin_python.process.traversal import Operator\n",
    "from gremlin_python.process.traversal import P\n",
    "from gremlin_python.process.traversal import Pop\n",
    "from gremlin_python.process.traversal import Scope\n",
    "from gremlin_python.process.traversal import Barrier\n",
    "from gremlin_python.process.traversal import Bindings\n",
    "from gremlin_python.process.traversal import WithOptions\n",
    "from gremlin_python import statics\n",
    "from gremlin_python.structure.graph import Graph\n",
    "from gremlin_python.process.graph_traversal import __\n",
    "from gremlin_python.process.strategies import *\n",
    "from gremlin_python.driver.driver_remote_connection import DriverRemoteConnection\n",
    "import pandas as pd\n",
    "import os"
   ]
  },
  {
   "cell_type": "markdown",
   "metadata": {},
   "source": [
    "# HPO与CHPO数据库介绍\n",
    "+ Human Phenotype Ontology, HPO - 人类表型术语集<br/>\n",
    "旨在提供人类疾病中用于描述表型异常的标准词汇. HPO每个术语描述了一种表型异常，如房间隔缺损(atrial septal defect), HPO目前正在利用从医学文献, [Orphanet](http://www.orphanet.org/), [DECIPHER](https://decipher.sanger.ac.uk/)和[OMIM](http://www.omim.org/)数据库获得的信息进行开发, 目前包含约11,000项名词和超过115000项关于遗传性疾病的注释. HPO数据库还提供了一套针对约4000种疾病的注释(annotations).\n",
    "+ Chinese Human Phenotype Ontology, CHPO - 中文人类表型术语集<br/>\n",
    "中文版的HPO有助于中国临床医生以标准化的医学名词和术语来描述罕见病患者的表型, 这样不仅有助于诊断疾病, 确定致病基因, 还能帮助研究人员寻找疾病与特定表型之间的关系。 "
   ]
  },
  {
   "cell_type": "markdown",
   "metadata": {},
   "source": [
    "CHPO中存储了表型定义、中英文名称、分类定义等关键信息，我们将表型作为主体，构建表型分类网络:<br/>\n",
    "**<font color=#FF0000> 所属术语 ——> 主分类 ——> 表型  </font>**"
   ]
  },
  {
   "cell_type": "code",
   "execution_count": 613,
   "metadata": {},
   "outputs": [
    {
     "data": {
      "text/html": [
       "<div>\n",
       "<style scoped>\n",
       "    .dataframe tbody tr th:only-of-type {\n",
       "        vertical-align: middle;\n",
       "    }\n",
       "\n",
       "    .dataframe tbody tr th {\n",
       "        vertical-align: top;\n",
       "    }\n",
       "\n",
       "    .dataframe thead th {\n",
       "        text-align: right;\n",
       "    }\n",
       "</style>\n",
       "<table border=\"1\" class=\"dataframe\">\n",
       "  <thead>\n",
       "    <tr style=\"text-align: right;\">\n",
       "      <th></th>\n",
       "      <th>所属术语</th>\n",
       "      <th>主分类(英)</th>\n",
       "      <th>主分类(译名)</th>\n",
       "    </tr>\n",
       "  </thead>\n",
       "  <tbody>\n",
       "    <tr>\n",
       "      <th>0</th>\n",
       "      <td>表型异常</td>\n",
       "      <td>Abnormality of connective tissue</td>\n",
       "      <td>结缔组织异常</td>\n",
       "    </tr>\n",
       "    <tr>\n",
       "      <th>1</th>\n",
       "      <td>表型异常</td>\n",
       "      <td>Abnormality of the voice</td>\n",
       "      <td>声音异常</td>\n",
       "    </tr>\n",
       "    <tr>\n",
       "      <th>2</th>\n",
       "      <td>表型异常</td>\n",
       "      <td>Abnormality of the nervous system</td>\n",
       "      <td>神经系统异常</td>\n",
       "    </tr>\n",
       "    <tr>\n",
       "      <th>3</th>\n",
       "      <td>表型异常</td>\n",
       "      <td>Abnormality of the breast</td>\n",
       "      <td>乳房异常</td>\n",
       "    </tr>\n",
       "    <tr>\n",
       "      <th>4</th>\n",
       "      <td>表型异常</td>\n",
       "      <td>Abnormality of the eye</td>\n",
       "      <td>眼部异常</td>\n",
       "    </tr>\n",
       "    <tr>\n",
       "      <th>5</th>\n",
       "      <td>表型异常</td>\n",
       "      <td>Abnormality of prenatal development or birth</td>\n",
       "      <td>胎儿产前发育或出生异常</td>\n",
       "    </tr>\n",
       "    <tr>\n",
       "      <th>6</th>\n",
       "      <td>表型异常</td>\n",
       "      <td>Neoplasm</td>\n",
       "      <td>肿瘤</td>\n",
       "    </tr>\n",
       "    <tr>\n",
       "      <th>7</th>\n",
       "      <td>表型异常</td>\n",
       "      <td>Abnormality of the endocrine system</td>\n",
       "      <td>内分泌系统异常</td>\n",
       "    </tr>\n",
       "    <tr>\n",
       "      <th>8</th>\n",
       "      <td>表型异常</td>\n",
       "      <td>Abnormality of head and neck</td>\n",
       "      <td>头部和颈部的异常</td>\n",
       "    </tr>\n",
       "    <tr>\n",
       "      <th>9</th>\n",
       "      <td>表型异常</td>\n",
       "      <td>Abnormality of the immune system</td>\n",
       "      <td>免疫系统异常</td>\n",
       "    </tr>\n",
       "    <tr>\n",
       "      <th>10</th>\n",
       "      <td>表型异常</td>\n",
       "      <td>Growth abnormality</td>\n",
       "      <td>生长异常</td>\n",
       "    </tr>\n",
       "    <tr>\n",
       "      <th>11</th>\n",
       "      <td>表型异常</td>\n",
       "      <td>Abnormality of limbs</td>\n",
       "      <td>肢体异常</td>\n",
       "    </tr>\n",
       "    <tr>\n",
       "      <th>12</th>\n",
       "      <td>表型异常</td>\n",
       "      <td>Abnormality of the thoracic cavity</td>\n",
       "      <td>胸腔异常</td>\n",
       "    </tr>\n",
       "    <tr>\n",
       "      <th>13</th>\n",
       "      <td>表型异常</td>\n",
       "      <td>Abnormality of blood and blood-forming tissues</td>\n",
       "      <td>血液和造血组织异常</td>\n",
       "    </tr>\n",
       "    <tr>\n",
       "      <th>14</th>\n",
       "      <td>表型异常</td>\n",
       "      <td>Abnormality of the musculature</td>\n",
       "      <td>肌肉组织异常</td>\n",
       "    </tr>\n",
       "    <tr>\n",
       "      <th>15</th>\n",
       "      <td>表型异常</td>\n",
       "      <td>Abnormality of the cardiovascular system</td>\n",
       "      <td>心血管系统异常</td>\n",
       "    </tr>\n",
       "    <tr>\n",
       "      <th>16</th>\n",
       "      <td>表型异常</td>\n",
       "      <td>Abnormality of the skeletal system</td>\n",
       "      <td>骨骼系统异常</td>\n",
       "    </tr>\n",
       "    <tr>\n",
       "      <th>17</th>\n",
       "      <td>表型异常</td>\n",
       "      <td>Abnormality of the respiratory system</td>\n",
       "      <td>呼吸系统异常</td>\n",
       "    </tr>\n",
       "    <tr>\n",
       "      <th>18</th>\n",
       "      <td>表型异常</td>\n",
       "      <td>Abnormality of the ear</td>\n",
       "      <td>耳部异常</td>\n",
       "    </tr>\n",
       "    <tr>\n",
       "      <th>19</th>\n",
       "      <td>表型异常</td>\n",
       "      <td>Abnormality of metabolism/homeostasis</td>\n",
       "      <td>代谢紊乱/稳态失衡</td>\n",
       "    </tr>\n",
       "    <tr>\n",
       "      <th>20</th>\n",
       "      <td>表型异常</td>\n",
       "      <td>Abnormality of the genitourinary system</td>\n",
       "      <td>泌尿生殖系统异常</td>\n",
       "    </tr>\n",
       "    <tr>\n",
       "      <th>21</th>\n",
       "      <td>表型异常</td>\n",
       "      <td>Abnormality of the integument</td>\n",
       "      <td>体壁的异常</td>\n",
       "    </tr>\n",
       "    <tr>\n",
       "      <th>22</th>\n",
       "      <td>表型异常</td>\n",
       "      <td>Abnormality of the digestive system</td>\n",
       "      <td>消化系统异常</td>\n",
       "    </tr>\n",
       "    <tr>\n",
       "      <th>23</th>\n",
       "      <td>遗传模式</td>\n",
       "      <td>Mode of inheritance</td>\n",
       "      <td>遗传模式</td>\n",
       "    </tr>\n",
       "    <tr>\n",
       "      <th>24</th>\n",
       "      <td>死亡/衰老</td>\n",
       "      <td>Mortality/Aging</td>\n",
       "      <td>死亡/衰老</td>\n",
       "    </tr>\n",
       "    <tr>\n",
       "      <th>25</th>\n",
       "      <td>临床调节因素</td>\n",
       "      <td>Clinical modifier</td>\n",
       "      <td>临床调节因素</td>\n",
       "    </tr>\n",
       "  </tbody>\n",
       "</table>\n",
       "</div>"
      ],
      "text/plain": [
       "      所属术语                                          主分类(英)      主分类(译名)\n",
       "0     表型异常                Abnormality of connective tissue       结缔组织异常\n",
       "1     表型异常                        Abnormality of the voice         声音异常\n",
       "2     表型异常               Abnormality of the nervous system       神经系统异常\n",
       "3     表型异常                       Abnormality of the breast         乳房异常\n",
       "4     表型异常                          Abnormality of the eye         眼部异常\n",
       "5     表型异常    Abnormality of prenatal development or birth  胎儿产前发育或出生异常\n",
       "6     表型异常                                        Neoplasm           肿瘤\n",
       "7     表型异常             Abnormality of the endocrine system      内分泌系统异常\n",
       "8     表型异常                    Abnormality of head and neck     头部和颈部的异常\n",
       "9     表型异常                Abnormality of the immune system       免疫系统异常\n",
       "10    表型异常                              Growth abnormality         生长异常\n",
       "11    表型异常                            Abnormality of limbs         肢体异常\n",
       "12    表型异常              Abnormality of the thoracic cavity         胸腔异常\n",
       "13    表型异常  Abnormality of blood and blood-forming tissues    血液和造血组织异常\n",
       "14    表型异常                  Abnormality of the musculature       肌肉组织异常\n",
       "15    表型异常        Abnormality of the cardiovascular system      心血管系统异常\n",
       "16    表型异常              Abnormality of the skeletal system       骨骼系统异常\n",
       "17    表型异常           Abnormality of the respiratory system       呼吸系统异常\n",
       "18    表型异常                          Abnormality of the ear         耳部异常\n",
       "19    表型异常           Abnormality of metabolism/homeostasis    代谢紊乱/稳态失衡\n",
       "20    表型异常         Abnormality of the genitourinary system     泌尿生殖系统异常\n",
       "21    表型异常                   Abnormality of the integument        体壁的异常\n",
       "22    表型异常             Abnormality of the digestive system       消化系统异常\n",
       "23    遗传模式                             Mode of inheritance         遗传模式\n",
       "24   死亡/衰老                                 Mortality/Aging        死亡/衰老\n",
       "25  临床调节因素                               Clinical modifier       临床调节因素"
      ]
     },
     "execution_count": 613,
     "metadata": {},
     "output_type": "execute_result"
    }
   ],
   "source": [
    "# 查看分类及其所属术语\n",
    "pd.read_csv(\"Data/CHPO/chpo.classification.txt\", sep='\\t', header=0)"
   ]
  },
  {
   "cell_type": "code",
   "execution_count": 614,
   "metadata": {},
   "outputs": [
    {
     "data": {
      "text/html": [
       "<div>\n",
       "<style scoped>\n",
       "    .dataframe tbody tr th:only-of-type {\n",
       "        vertical-align: middle;\n",
       "    }\n",
       "\n",
       "    .dataframe tbody tr th {\n",
       "        vertical-align: top;\n",
       "    }\n",
       "\n",
       "    .dataframe thead th {\n",
       "        text-align: right;\n",
       "    }\n",
       "</style>\n",
       "<table border=\"1\" class=\"dataframe\">\n",
       "  <thead>\n",
       "    <tr style=\"text-align: right;\">\n",
       "      <th></th>\n",
       "      <th>主分类(中文)</th>\n",
       "      <th>HPO编号</th>\n",
       "      <th>名称(英文)</th>\n",
       "      <th>名称(中文)</th>\n",
       "      <th>定义(英文)</th>\n",
       "      <th>定义(中文)</th>\n",
       "    </tr>\n",
       "  </thead>\n",
       "  <tbody>\n",
       "    <tr>\n",
       "      <th>0</th>\n",
       "      <td>生长异常</td>\n",
       "      <td>HP:0000002</td>\n",
       "      <td>Abnormality of body height</td>\n",
       "      <td>身高异常</td>\n",
       "      <td>Deviation from the norm of height with respect...</td>\n",
       "      <td>身高偏离该年龄性别预期身高的正常范围。</td>\n",
       "    </tr>\n",
       "    <tr>\n",
       "      <th>1</th>\n",
       "      <td>泌尿生殖系统的异常</td>\n",
       "      <td>HP:0000003</td>\n",
       "      <td>Multicystic kidney dysplasia</td>\n",
       "      <td>多囊性肾发育不全</td>\n",
       "      <td>Multicystic dysplasia of the kidney is charact...</td>\n",
       "      <td>多囊性肾发育不全的特点是各种大小不一的肾囊肿，缺乏正常肾盂肾盏系统。这种状态伴发输尿管或肾盂...</td>\n",
       "    </tr>\n",
       "    <tr>\n",
       "      <th>2</th>\n",
       "      <td>遗传模式</td>\n",
       "      <td>HP:0000005</td>\n",
       "      <td>Mode of inheritance</td>\n",
       "      <td>遗传模式</td>\n",
       "      <td>The pattern in which a particular genetic trai...</td>\n",
       "      <td>NaN</td>\n",
       "    </tr>\n",
       "    <tr>\n",
       "      <th>3</th>\n",
       "      <td>遗传模式</td>\n",
       "      <td>HP:0000006</td>\n",
       "      <td>Autosomal dominant inheritance</td>\n",
       "      <td>常染色体显性遗传</td>\n",
       "      <td>A mode of inheritance that is observed for tra...</td>\n",
       "      <td>NaN</td>\n",
       "    </tr>\n",
       "    <tr>\n",
       "      <th>4</th>\n",
       "      <td>遗传模式</td>\n",
       "      <td>HP:0000007</td>\n",
       "      <td>Autosomal recessive inheritance</td>\n",
       "      <td>常染色体隐形遗传</td>\n",
       "      <td>A mode of inheritance that is observed for tra...</td>\n",
       "      <td>NaN</td>\n",
       "    </tr>\n",
       "    <tr>\n",
       "      <th>...</th>\n",
       "      <td>...</td>\n",
       "      <td>...</td>\n",
       "      <td>...</td>\n",
       "      <td>...</td>\n",
       "      <td>...</td>\n",
       "      <td>...</td>\n",
       "    </tr>\n",
       "    <tr>\n",
       "      <th>11891</th>\n",
       "      <td>神经系统的异常;头或颈部的异常</td>\n",
       "      <td>HP:3000075</td>\n",
       "      <td>Abnormality of lingual nerve</td>\n",
       "      <td>舌神经异常</td>\n",
       "      <td>An abnormality of a lingual nerve.</td>\n",
       "      <td>NaN</td>\n",
       "    </tr>\n",
       "    <tr>\n",
       "      <th>11892</th>\n",
       "      <td>头或颈部的异常;免疫系统的异常</td>\n",
       "      <td>HP:3000076</td>\n",
       "      <td>Abnormality of lingual tonsil</td>\n",
       "      <td>舌扁桃体异常</td>\n",
       "      <td>An abnormality of a lingual tonsil.</td>\n",
       "      <td>NaN</td>\n",
       "    </tr>\n",
       "    <tr>\n",
       "      <th>11893</th>\n",
       "      <td>头或颈部的异常;骨骼系统的异常</td>\n",
       "      <td>HP:3000077</td>\n",
       "      <td>Abnormality of mandible condylar process</td>\n",
       "      <td>下颌骨髁突异常</td>\n",
       "      <td>An abnormality of a mandible condylar process.</td>\n",
       "      <td>NaN</td>\n",
       "    </tr>\n",
       "    <tr>\n",
       "      <th>11894</th>\n",
       "      <td>头或颈部的异常;骨骼系统的异常</td>\n",
       "      <td>HP:3000078</td>\n",
       "      <td>Abnormality of mandible coronoid process</td>\n",
       "      <td>下颌骨喙突异常</td>\n",
       "      <td>An abnormality of a mandible coronoid process.</td>\n",
       "      <td>NaN</td>\n",
       "    </tr>\n",
       "    <tr>\n",
       "      <th>11895</th>\n",
       "      <td>骨骼系统的异常</td>\n",
       "      <td>HP:3000079</td>\n",
       "      <td>Abnormality of mandibular symphysis</td>\n",
       "      <td>下颌联合异常</td>\n",
       "      <td>An abnormality of a mandibular symphysis.</td>\n",
       "      <td>NaN</td>\n",
       "    </tr>\n",
       "  </tbody>\n",
       "</table>\n",
       "<p>11896 rows × 6 columns</p>\n",
       "</div>"
      ],
      "text/plain": [
       "               主分类(中文)       HPO编号                                    名称(英文)  \\\n",
       "0                 生长异常  HP:0000002                Abnormality of body height   \n",
       "1            泌尿生殖系统的异常  HP:0000003              Multicystic kidney dysplasia   \n",
       "2                 遗传模式  HP:0000005                       Mode of inheritance   \n",
       "3                 遗传模式  HP:0000006            Autosomal dominant inheritance   \n",
       "4                 遗传模式  HP:0000007           Autosomal recessive inheritance   \n",
       "...                ...         ...                                       ...   \n",
       "11891  神经系统的异常;头或颈部的异常  HP:3000075              Abnormality of lingual nerve   \n",
       "11892  头或颈部的异常;免疫系统的异常  HP:3000076             Abnormality of lingual tonsil   \n",
       "11893  头或颈部的异常;骨骼系统的异常  HP:3000077  Abnormality of mandible condylar process   \n",
       "11894  头或颈部的异常;骨骼系统的异常  HP:3000078  Abnormality of mandible coronoid process   \n",
       "11895          骨骼系统的异常  HP:3000079       Abnormality of mandibular symphysis   \n",
       "\n",
       "         名称(中文)                                             定义(英文)  \\\n",
       "0          身高异常  Deviation from the norm of height with respect...   \n",
       "1      多囊性肾发育不全  Multicystic dysplasia of the kidney is charact...   \n",
       "2          遗传模式  The pattern in which a particular genetic trai...   \n",
       "3      常染色体显性遗传  A mode of inheritance that is observed for tra...   \n",
       "4      常染色体隐形遗传  A mode of inheritance that is observed for tra...   \n",
       "...         ...                                                ...   \n",
       "11891     舌神经异常                 An abnormality of a lingual nerve.   \n",
       "11892    舌扁桃体异常                An abnormality of a lingual tonsil.   \n",
       "11893   下颌骨髁突异常     An abnormality of a mandible condylar process.   \n",
       "11894   下颌骨喙突异常     An abnormality of a mandible coronoid process.   \n",
       "11895    下颌联合异常          An abnormality of a mandibular symphysis.   \n",
       "\n",
       "                                                  定义(中文)  \n",
       "0                                    身高偏离该年龄性别预期身高的正常范围。  \n",
       "1      多囊性肾发育不全的特点是各种大小不一的肾囊肿，缺乏正常肾盂肾盏系统。这种状态伴发输尿管或肾盂...  \n",
       "2                                                    NaN  \n",
       "3                                                    NaN  \n",
       "4                                                    NaN  \n",
       "...                                                  ...  \n",
       "11891                                                NaN  \n",
       "11892                                                NaN  \n",
       "11893                                                NaN  \n",
       "11894                                                NaN  \n",
       "11895                                                NaN  \n",
       "\n",
       "[11896 rows x 6 columns]"
      ]
     },
     "execution_count": 614,
     "metadata": {},
     "output_type": "execute_result"
    }
   ],
   "source": [
    "# 查看表型及其分类\n",
    "pd.read_csv(\"Data/CHPO/chpo.2016-10.txt\", sep='\\t', header=0)"
   ]
  },
  {
   "cell_type": "markdown",
   "metadata": {},
   "source": [
    "# 定义CHPO数据逻辑类"
   ]
  },
  {
   "cell_type": "code",
   "execution_count": 423,
   "metadata": {},
   "outputs": [],
   "source": [
    "class CHPO:\n",
    "    __transform = {\n",
    "        \"所属术语\":\"term\",\n",
    "        \"主分类(英)\":\"category_en\",\n",
    "        \"主分类(译名)\":\"category_cn\",\n",
    "        \"主分类(中文)\":\"category_cn\",\n",
    "        \"HPO编号\":\"hpo_id\",\n",
    "        \"名称(英文)\":\"name_en\",\n",
    "        \"名称(中文)\":\"name_cn\",\n",
    "        \"定义(英文)\":\"definition_en\",\n",
    "        \"定义(中文)\":\"definition_cn\"\n",
    "    }\n",
    "    __chpo = list()\n",
    "    __chpo_category = list()\n",
    "    __term_category = dict()\n",
    "\n",
    "    def __init__(self,chpo=\"\",classification=\"\"):\n",
    "        self.load(type=\"chpo\",filepath=chpo)\n",
    "        self.load(type=\"classification\",filepath=classification)\n",
    "\n",
    "\n",
    "    def load(self,type=\"chpo\",filepath=\"chpo.txt\"):\n",
    "        input_file = open(filepath)\n",
    "        header = input_file.readline().strip().split(\"\\t\")\n",
    "        if type==\"chpo\":\n",
    "            \"\"\"\n",
    "            [\n",
    "               {\n",
    "                   'category_cn': '泌尿生殖系统的异常', \n",
    "                    'hpo_id': 'HP:0000079', \n",
    "                    'name_en': 'Abnormality of the urinary system', \n",
    "                    'name_cn': '泌尿系统异常', \n",
    "                    'definition_en': 'An abnormality of the `urinary system` (FMA:7159).', \n",
    "                    'definition_cn': '泌尿系统的异常。'\n",
    "                }\n",
    "            ]\n",
    "            \"\"\"\n",
    "            for line in input_file:\n",
    "                items = line.split(\"\\t\")\n",
    "                item = dict()\n",
    "                for i in range(len(items)):\n",
    "                    item[self.__transform[header[i]]] = items[i].strip() if items[i]!=\"\\n\" else \"\"\n",
    "                self.__chpo.append(item)\n",
    "        elif type==\"classification\":\n",
    "            \"\"\"\n",
    "            [\n",
    "                {'term': '表型异常', 'category_en': 'Abnormality of connective tissue','category_cn': '结缔组织异常'}, \n",
    "                {'term': '表型异常', 'category_en': 'Abnormality of the voice', 'category_cn': '声音异常'}\n",
    "            ]\n",
    "            \"\"\"\n",
    "            for line in input_file:\n",
    "                items = line.split(\"\\t\")\n",
    "                item = dict()\n",
    "                for i in range(len(items)):\n",
    "                    item[self.__transform[header[i]]] = items[i].strip() if items[i]!=\"\\n\" else \"\"\n",
    "                self.__chpo_category.append(item)\n",
    "\n",
    "    def insert_term(self,graph):\n",
    "        existslist = dict()\n",
    "        for i in self.__chpo_category:\n",
    "            if i[\"term\"] and i[\"term\"] not in existslist:\n",
    "                try:\n",
    "                    graph.addV('Term').property(T.id, i[\"term\"]).next()\n",
    "                    existslist[i[\"term\"]] = 1\n",
    "                except Exception as e:\n",
    "                        pass\n",
    "            self.__term_category[i[\"category_cn\"]] = i[\"term\"]\n",
    "            \n",
    "    def insert_phenotypic_category(self,graph,l_limit=100):\n",
    "        l_count = 0\n",
    "        phenotypic_existslist = dict()\n",
    "        for i in self.__chpo:\n",
    "            category = i[\"category_cn\"].strip().split(\";\")\n",
    "            for c in category:\n",
    "                if c and c not in phenotypic_existslist.keys():\n",
    "                    try:\n",
    "                        graph.addV('PhenotypicCategory').property(T.id, c).next()\n",
    "                        phenotypic_existslist[c] = 1\n",
    "                        if c in self.__term_category.keys():\n",
    "                            graph.V(c).hasLabel('PhenotypicCategory').addE('CategoryBelong').to(graph.V(self.__term_category[c]).hasLabel('Term')).next()\n",
    "                        l_count += 1\n",
    "                        if l_count == l_limit:break;\n",
    "                    except Exception as e:\n",
    "                        pass\n",
    "            \n",
    "\n",
    "\n",
    "\n",
    "    def insert_phenotypic_with_relation(self,graph,l_limit=1000):\n",
    "        l_count = 0\n",
    "        for i in self.__chpo:\n",
    "            try:\n",
    "                graph.addV('Phenotypic').property(T.id, i[\"hpo_id\"]).property('name_en',i[\"name_en\"]).property('name_cn',i[\"name_cn\"]).property('definition_en',i[\"definition_en\"]).property('definition_cn',i[\"definition_cn\"]).next()\n",
    "            except Exception as e:\n",
    "                pass\n",
    "                \n",
    "            if i[\"category_cn\"]:\n",
    "                category = i[\"category_cn\"].split(\";\")\n",
    "                for c in category:\n",
    "                    try:\n",
    "                        graph.V(i[\"hpo_id\"]).hasLabel('Phenotypic').addE('PhenotypicBelong').to(graph.V(c).hasLabel('PhenotypicCategory')).next()\n",
    "                    except Exception as e:\n",
    "                        pass\n",
    "            l_count += 1\n",
    "            if l_count == l_limit:break;\n",
    "                    \n",
    "# 创建数据库连接，初始化类对象\n",
    "graph = Graph()\n",
    "remoteConn = DriverRemoteConnection('wss://{}:8182/gremlin'.format(os.environ.get('GRAPH_NOTEBOOK_HOST')),'g')\n",
    "g = graph.traversal().withRemote(remoteConn)\n",
    "\n",
    "Phenotypic = CHPO(chpo=\"Data/CHPO/chpo.2016-10.txt\",classification=\"Data/CHPO/chpo.classification.txt\")\n",
    "\n"
   ]
  },
  {
   "cell_type": "markdown",
   "metadata": {},
   "source": [
    "## 导入所属术语及疾病分类"
   ]
  },
  {
   "cell_type": "code",
   "execution_count": 424,
   "metadata": {
    "scrolled": true
   },
   "outputs": [
    {
     "name": "stdout",
     "output_type": "stream",
     "text": [
      "CPU times: user 13.9 ms, sys: 220 µs, total: 14.1 ms\n",
      "Wall time: 83.2 ms\n"
     ]
    }
   ],
   "source": [
    "# 导入所属术语\n",
    "%time Phenotypic.insert_term(g)"
   ]
  },
  {
   "cell_type": "code",
   "execution_count": null,
   "metadata": {},
   "outputs": [],
   "source": [
    "# 导入主分类\n",
    "%time Phenotypic.insert_phenotypic_category(g,l_limit=100)"
   ]
  },
  {
   "cell_type": "markdown",
   "metadata": {},
   "source": [
    "### 查询表型分类示例\n",
    "![example](https://raw.githubusercontent.com/hy714335634/Genomics-in-Neptune---workshop/main/Analyses%20of%20Complex%20Diseases%20and%20Human%20Disease%20Network/Img/WX20201207-200512.png)"
   ]
  },
  {
   "cell_type": "code",
   "execution_count": 2,
   "metadata": {
    "scrolled": false
   },
   "outputs": [
    {
     "data": {
      "application/vnd.jupyter.widget-view+json": {
       "model_id": "0081e7637c234a318ed7d73169cce463",
       "version_major": 2,
       "version_minor": 0
      },
      "text/plain": [
       "Tab(children=(Output(layout=Layout(max_height='600px', overflow='scroll', width='100%')),), _titles={'0': 'Con…"
      ]
     },
     "metadata": {},
     "output_type": "display_data"
    }
   ],
   "source": [
    "%%gremlin\n",
    "g.V().hasLabel('PhenotypicCategory')"
   ]
  },
  {
   "cell_type": "markdown",
   "metadata": {},
   "source": [
    "## 导入表型及分类关系\n",
    "约3min"
   ]
  },
  {
   "cell_type": "code",
   "execution_count": 440,
   "metadata": {
    "scrolled": true
   },
   "outputs": [
    {
     "name": "stdout",
     "output_type": "stream",
     "text": [
      "CPU times: user 24.7 s, sys: 3.94 s, total: 28.6 s\n",
      "Wall time: 2min 51s\n"
     ]
    }
   ],
   "source": [
    "%time Phenotypic.insert_phenotypic_with_relation(g,l_limit=100000)"
   ]
  },
  {
   "cell_type": "markdown",
   "metadata": {},
   "source": [
    "### 查询“表型异常”分类下表型\n",
    "![example](https://raw.githubusercontent.com/hy714335634/Genomics-in-Neptune---workshop/main/Analyses%20of%20Complex%20Diseases%20and%20Human%20Disease%20Network/Img/WX20201207-201144.png)"
   ]
  },
  {
   "cell_type": "code",
   "execution_count": 3,
   "metadata": {
    "scrolled": false
   },
   "outputs": [
    {
     "data": {
      "application/vnd.jupyter.widget-view+json": {
       "model_id": "875851eb041b490f86efabb82c44f6fa",
       "version_major": 2,
       "version_minor": 0
      },
      "text/plain": [
       "Tab(children=(Output(layout=Layout(max_height='600px', overflow='scroll', width='100%')),), _titles={'0': 'Con…"
      ]
     },
     "metadata": {},
     "output_type": "display_data"
    }
   ],
   "source": [
    "%%gremlin\n",
    "g.V(\"表型异常\").hasLabel('Term').in().in().values('name_cn').limit(200)"
   ]
  },
  {
   "cell_type": "code",
   "execution_count": 4,
   "metadata": {},
   "outputs": [
    {
     "data": {
      "application/vnd.jupyter.widget-view+json": {
       "model_id": "10f58df67cd3430085d59d0b3291cfdc",
       "version_major": 2,
       "version_minor": 0
      },
      "text/plain": [
       "Tab(children=(Output(layout=Layout(max_height='600px', overflow='scroll', width='100%')),), _titles={'0': 'Con…"
      ]
     },
     "metadata": {},
     "output_type": "display_data"
    }
   ],
   "source": [
    "%%gremlin\n",
    "g.V().count()\n",
    "// 查询数据库点数量"
   ]
  },
  {
   "attachments": {},
   "cell_type": "markdown",
   "metadata": {},
   "source": [
    "# OMIM数据库介绍\n",
    "* OMIM 为“0nline Mendelian Inheritance in Man”的简称，即在线《人类孟德尔遗传》，是一个关于人类基因和遗传紊乱的数据库（持续更新）。主要着眼于遗传性的基因疾病，包括文本信息和相关参考信息、序列纪录、图谱和相关其他数据库。\n",
    "* MIM 包括所有已知的遗传病、遗传决定的性状及其基因，除了简略描述各种疾病的临床特征、诊断、鉴别诊断、治疗与预防外，还提供已知有关致病基因的连锁关系、染色体定位、组成结构和功能、动物模型等资料，并附有经缜密筛选的相关参考文献。MIM制定的各种遗传病、性状、基因的编号，简称MIM 号，为全世界所公认。有关疾病的报道必须冠以MIM号，以明确所讨论的是哪一种遗传病。可见MIM 在国际医学界的权威性.\n",
    "![example](https://raw.githubusercontent.com/hy714335634/Genomics-in-Neptune---workshop/main/Analyses%20of%20Complex%20Diseases%20and%20Human%20Disease%20Network/Img/1607343564302.jpg)\n"
   ]
  },
  {
   "attachments": {},
   "cell_type": "markdown",
   "metadata": {},
   "source": [
    "\n",
    "在OMIM数据库中，不同id代表的含义也有区别，由于我们需要构建OMIM与CHPO/HPO之间的关联，而CHPO/HPO中遗传模式的分类中已存在这部分关系，此处不再单独建立实体对应关系\n",
    "![example](https://raw.githubusercontent.com/hy714335634/Genomics-in-Neptune---workshop/main/Analyses%20of%20Complex%20Diseases%20and%20Human%20Disease%20Network/Img/1607343514829.jpg)\n",
    "\n"
   ]
  },
  {
   "cell_type": "code",
   "execution_count": 664,
   "metadata": {},
   "outputs": [
    {
     "data": {
      "text/html": [
       "<div>\n",
       "<style scoped>\n",
       "    .dataframe tbody tr th:only-of-type {\n",
       "        vertical-align: middle;\n",
       "    }\n",
       "\n",
       "    .dataframe tbody tr th {\n",
       "        vertical-align: top;\n",
       "    }\n",
       "\n",
       "    .dataframe thead th {\n",
       "        text-align: right;\n",
       "    }\n",
       "</style>\n",
       "<table border=\"1\" class=\"dataframe\">\n",
       "  <thead>\n",
       "    <tr style=\"text-align: right;\">\n",
       "      <th></th>\n",
       "      <th>OMIM编码</th>\n",
       "      <th>英文名</th>\n",
       "      <th>中文译名</th>\n",
       "    </tr>\n",
       "  </thead>\n",
       "  <tbody>\n",
       "    <tr>\n",
       "      <th>0</th>\n",
       "      <td>OMIM:604213</td>\n",
       "      <td>CHUDLEY-MCCULLOUGH SYNDROME; CMCS</td>\n",
       "      <td>Chudley-mccullough综合征；CMCS</td>\n",
       "    </tr>\n",
       "    <tr>\n",
       "      <th>1</th>\n",
       "      <td>OMIM:301040</td>\n",
       "      <td>ALPHA-THALASSEMIA/MENTAL RETARDATION SYNDROME,...</td>\n",
       "      <td>X-连锁α-地中海贫血/智力迟钝综合征；ATRX</td>\n",
       "    </tr>\n",
       "    <tr>\n",
       "      <th>2</th>\n",
       "      <td>OMIM:309580</td>\n",
       "      <td>MENTAL RETARDATION-HYPOTONIC FACIES SYNDROME, ...</td>\n",
       "      <td>X染色体相关的精神发育迟滞-肌张力减退综合征1型（MRXHF1）</td>\n",
       "    </tr>\n",
       "    <tr>\n",
       "      <th>3</th>\n",
       "      <td>OMIM:300448</td>\n",
       "      <td>ALPHA-THALASSEMIA MYELODYSPLASIA SYNDROME; ATMDS</td>\n",
       "      <td>α地中海贫血骨髓增生异常综合征（ATMD）</td>\n",
       "    </tr>\n",
       "    <tr>\n",
       "      <th>4</th>\n",
       "      <td>OMIM:212065</td>\n",
       "      <td>CONGENITAL DISORDER OF GLYCOSYLATION, TYPE Ia;...</td>\n",
       "      <td>Ia型先天性糖蛋白糖基化障碍；CDG1A</td>\n",
       "    </tr>\n",
       "    <tr>\n",
       "      <th>...</th>\n",
       "      <td>...</td>\n",
       "      <td>...</td>\n",
       "      <td>...</td>\n",
       "    </tr>\n",
       "    <tr>\n",
       "      <th>5266</th>\n",
       "      <td>OMIM:225750</td>\n",
       "      <td>AICARDI-GOUTIERES SYNDROME 1; AGS1</td>\n",
       "      <td>Aicardi Goutieres综合征</td>\n",
       "    </tr>\n",
       "    <tr>\n",
       "      <th>5267</th>\n",
       "      <td>OMIM:224750</td>\n",
       "      <td>SCHOPF-SCHULZ-PASSARGE SYNDROME; SSPS</td>\n",
       "      <td>Schopf-Schulz-Passarge 综合征</td>\n",
       "    </tr>\n",
       "    <tr>\n",
       "      <th>5268</th>\n",
       "      <td>OMIM:265000</td>\n",
       "      <td>MULTIPLE PTERYGIUM SYNDROME, ESCOBAR VARIANT; ...</td>\n",
       "      <td>埃斯科巴尔综合征，多发性翼状赘皮综合征</td>\n",
       "    </tr>\n",
       "    <tr>\n",
       "      <th>5269</th>\n",
       "      <td>OMIM:300438</td>\n",
       "      <td>17-BETA-HYDROXYSTEROID DEHYDROGENASE X DEFICIENCY</td>\n",
       "      <td>X-缺失17β-羟基类固醇脱氢</td>\n",
       "    </tr>\n",
       "    <tr>\n",
       "      <th>5270</th>\n",
       "      <td>OMIM:270200</td>\n",
       "      <td>SJOGREN-LARSSON SYNDROME; SLS</td>\n",
       "      <td>舍格伦-拉松综合征</td>\n",
       "    </tr>\n",
       "  </tbody>\n",
       "</table>\n",
       "<p>5271 rows × 3 columns</p>\n",
       "</div>"
      ],
      "text/plain": [
       "           OMIM编码                                                英文名  \\\n",
       "0     OMIM:604213                  CHUDLEY-MCCULLOUGH SYNDROME; CMCS   \n",
       "1     OMIM:301040  ALPHA-THALASSEMIA/MENTAL RETARDATION SYNDROME,...   \n",
       "2     OMIM:309580  MENTAL RETARDATION-HYPOTONIC FACIES SYNDROME, ...   \n",
       "3     OMIM:300448   ALPHA-THALASSEMIA MYELODYSPLASIA SYNDROME; ATMDS   \n",
       "4     OMIM:212065  CONGENITAL DISORDER OF GLYCOSYLATION, TYPE Ia;...   \n",
       "...           ...                                                ...   \n",
       "5266  OMIM:225750                 AICARDI-GOUTIERES SYNDROME 1; AGS1   \n",
       "5267  OMIM:224750              SCHOPF-SCHULZ-PASSARGE SYNDROME; SSPS   \n",
       "5268  OMIM:265000  MULTIPLE PTERYGIUM SYNDROME, ESCOBAR VARIANT; ...   \n",
       "5269  OMIM:300438  17-BETA-HYDROXYSTEROID DEHYDROGENASE X DEFICIENCY   \n",
       "5270  OMIM:270200                      SJOGREN-LARSSON SYNDROME; SLS   \n",
       "\n",
       "                                  中文译名  \n",
       "0           Chudley-mccullough综合征；CMCS  \n",
       "1             X-连锁α-地中海贫血/智力迟钝综合征；ATRX  \n",
       "2     X染色体相关的精神发育迟滞-肌张力减退综合征1型（MRXHF1）  \n",
       "3                α地中海贫血骨髓增生异常综合征（ATMD）  \n",
       "4                 Ia型先天性糖蛋白糖基化障碍；CDG1A  \n",
       "...                                ...  \n",
       "5266              Aicardi Goutieres综合征  \n",
       "5267        Schopf-Schulz-Passarge 综合征  \n",
       "5268               埃斯科巴尔综合征，多发性翼状赘皮综合征  \n",
       "5269                   X-缺失17β-羟基类固醇脱氢  \n",
       "5270                         舍格伦-拉松综合征  \n",
       "\n",
       "[5271 rows x 3 columns]"
      ]
     },
     "execution_count": 664,
     "metadata": {},
     "output_type": "execute_result"
    }
   ],
   "source": [
    "# OMIM数据库内容\n",
    "pd.read_csv(\"Data/OMIM/OMIM_Disease.txt\", sep='\\t', header=0)"
   ]
  },
  {
   "cell_type": "code",
   "execution_count": 618,
   "metadata": {
    "scrolled": false
   },
   "outputs": [
    {
     "data": {
      "text/html": [
       "<div>\n",
       "<style scoped>\n",
       "    .dataframe tbody tr th:only-of-type {\n",
       "        vertical-align: middle;\n",
       "    }\n",
       "\n",
       "    .dataframe tbody tr th {\n",
       "        vertical-align: top;\n",
       "    }\n",
       "\n",
       "    .dataframe thead th {\n",
       "        text-align: right;\n",
       "    }\n",
       "</style>\n",
       "<table border=\"1\" class=\"dataframe\">\n",
       "  <thead>\n",
       "    <tr style=\"text-align: right;\">\n",
       "      <th></th>\n",
       "      <th>diseaseId</th>\n",
       "      <th>gene-symbol</th>\n",
       "      <th>gene-id(entrez)</th>\n",
       "      <th>HPO-ID</th>\n",
       "      <th>HPO-term-name</th>\n",
       "    </tr>\n",
       "  </thead>\n",
       "  <tbody>\n",
       "    <tr>\n",
       "      <th>0</th>\n",
       "      <td>OMIM:614652</td>\n",
       "      <td>PDSS2</td>\n",
       "      <td>57107</td>\n",
       "      <td>HP:0002133</td>\n",
       "      <td>Status epilepticus</td>\n",
       "    </tr>\n",
       "    <tr>\n",
       "      <th>1</th>\n",
       "      <td>OMIM:614652</td>\n",
       "      <td>PDSS2</td>\n",
       "      <td>57107</td>\n",
       "      <td>HP:0000093</td>\n",
       "      <td>Proteinuria</td>\n",
       "    </tr>\n",
       "    <tr>\n",
       "      <th>2</th>\n",
       "      <td>OMIM:614652</td>\n",
       "      <td>PDSS2</td>\n",
       "      <td>57107</td>\n",
       "      <td>HP:0100704</td>\n",
       "      <td>Cortical visual impairment</td>\n",
       "    </tr>\n",
       "    <tr>\n",
       "      <th>3</th>\n",
       "      <td>OMIM:614652</td>\n",
       "      <td>PDSS2</td>\n",
       "      <td>57107</td>\n",
       "      <td>HP:0002151</td>\n",
       "      <td>Increased serum lactate</td>\n",
       "    </tr>\n",
       "    <tr>\n",
       "      <th>4</th>\n",
       "      <td>OMIM:614652</td>\n",
       "      <td>PDSS2</td>\n",
       "      <td>57107</td>\n",
       "      <td>HP:0000007</td>\n",
       "      <td>Autosomal recessive inheritance</td>\n",
       "    </tr>\n",
       "    <tr>\n",
       "      <th>...</th>\n",
       "      <td>...</td>\n",
       "      <td>...</td>\n",
       "      <td>...</td>\n",
       "      <td>...</td>\n",
       "      <td>...</td>\n",
       "    </tr>\n",
       "    <tr>\n",
       "      <th>234501</th>\n",
       "      <td>OMIM:616138</td>\n",
       "      <td>HSD17B4</td>\n",
       "      <td>3295</td>\n",
       "      <td>HP:0003542</td>\n",
       "      <td>Increased serum pyruvate</td>\n",
       "    </tr>\n",
       "    <tr>\n",
       "      <th>234502</th>\n",
       "      <td>OMIM:616138</td>\n",
       "      <td>HSD17B4</td>\n",
       "      <td>3295</td>\n",
       "      <td>HP:0000602</td>\n",
       "      <td>Ophthalmoplegia</td>\n",
       "    </tr>\n",
       "    <tr>\n",
       "      <th>234503</th>\n",
       "      <td>OMIM:616138</td>\n",
       "      <td>HSD17B4</td>\n",
       "      <td>3295</td>\n",
       "      <td>HP:0000218</td>\n",
       "      <td>High palate</td>\n",
       "    </tr>\n",
       "    <tr>\n",
       "      <th>234504</th>\n",
       "      <td>OMIM:616138</td>\n",
       "      <td>HSD17B4</td>\n",
       "      <td>3295</td>\n",
       "      <td>HP:0001265</td>\n",
       "      <td>Hyporeflexia</td>\n",
       "    </tr>\n",
       "    <tr>\n",
       "      <th>234505</th>\n",
       "      <td>OMIM:616138</td>\n",
       "      <td>HSD17B4</td>\n",
       "      <td>3295</td>\n",
       "      <td>HP:0002151</td>\n",
       "      <td>Increased serum lactate</td>\n",
       "    </tr>\n",
       "  </tbody>\n",
       "</table>\n",
       "<p>234506 rows × 5 columns</p>\n",
       "</div>"
      ],
      "text/plain": [
       "          diseaseId gene-symbol  gene-id(entrez)      HPO-ID  \\\n",
       "0       OMIM:614652       PDSS2            57107  HP:0002133   \n",
       "1       OMIM:614652       PDSS2            57107  HP:0000093   \n",
       "2       OMIM:614652       PDSS2            57107  HP:0100704   \n",
       "3       OMIM:614652       PDSS2            57107  HP:0002151   \n",
       "4       OMIM:614652       PDSS2            57107  HP:0000007   \n",
       "...             ...         ...              ...         ...   \n",
       "234501  OMIM:616138     HSD17B4             3295  HP:0003542   \n",
       "234502  OMIM:616138     HSD17B4             3295  HP:0000602   \n",
       "234503  OMIM:616138     HSD17B4             3295  HP:0000218   \n",
       "234504  OMIM:616138     HSD17B4             3295  HP:0001265   \n",
       "234505  OMIM:616138     HSD17B4             3295  HP:0002151   \n",
       "\n",
       "                          HPO-term-name  \n",
       "0                    Status epilepticus  \n",
       "1                           Proteinuria  \n",
       "2            Cortical visual impairment  \n",
       "3               Increased serum lactate  \n",
       "4       Autosomal recessive inheritance  \n",
       "...                                 ...  \n",
       "234501         Increased serum pyruvate  \n",
       "234502                  Ophthalmoplegia  \n",
       "234503                      High palate  \n",
       "234504                     Hyporeflexia  \n",
       "234505          Increased serum lactate  \n",
       "\n",
       "[234506 rows x 5 columns]"
      ]
     },
     "execution_count": 618,
     "metadata": {},
     "output_type": "execute_result"
    }
   ],
   "source": [
    "# OMIM ——> Gene ——> HPO ——> CHPO\n",
    "# 建立疾病、基因、表型之间的关联\n",
    "pd.read_csv(\"Data/OMIM/OMIM_ALL_FREQUENCIES_diseases_to_genes_to_phenotypes.txt\", sep='\\t', header=0)"
   ]
  },
  {
   "cell_type": "markdown",
   "metadata": {},
   "source": [
    "# 定义OMIM数据逻辑类"
   ]
  },
  {
   "cell_type": "code",
   "execution_count": 697,
   "metadata": {},
   "outputs": [],
   "source": [
    "class OMIM:\n",
    "    __transform = {\n",
    "        \"diseaseId\":\"omim_id\",\n",
    "        \"gene-symbol\":\"gene-symbol\",\n",
    "        \"gene-id(entrez)\":\"gene-id\",\n",
    "        \"HPO-ID\":\"hpo_id\",\n",
    "        \"HPO-term-name\":\"name_en\",\n",
    "        \"OMIM编码\":\"omim_id\",\n",
    "        \"英文名\":\"disease_name_en\",\n",
    "        \"中文译名\":\"disease_name_cn\"\n",
    "    }\n",
    "    __omim = list()\n",
    "    __omim_id = dict()\n",
    "    __omim_gene_phenotypec = list()\n",
    "    __omim_gene_symbol = dict()\n",
    "\n",
    "    def __init__(self,omim=\"\",omim_gene_phenotypic=\"\"):\n",
    "        if omim:\n",
    "            self.load(type=\"omim\",filepath=omim)\n",
    "        if omim_gene_phenotypic:\n",
    "            self.load(type=\"omim_gene_phenotypic\",filepath=omim_gene_phenotypic)\n",
    "\n",
    "    def load(self,type=\"omim\",filepath=\"omim.txt\"):\n",
    "        if type==\"omim\":\n",
    "            input_file = open(filepath)\n",
    "            header = input_file.readline().strip().split(\"\\t\")\n",
    "            for line in input_file:\n",
    "                items = line.split(\"\\t\")\n",
    "                item = dict()\n",
    "                for i in range(len(items)):\n",
    "                    item[self.__transform[header[i]]] = items[i].strip() if items[i]!=\"\\n\" else \"\"\n",
    "                self.__omim.append(item)\n",
    "                self.__omim_id[item[\"omim_id\"]] = 1\n",
    "\n",
    "        elif type==\"omim_gene_phenotypic\":\n",
    "            input_file = open(filepath)\n",
    "            header = input_file.readline().strip().split(\"\\t\")\n",
    "            for line in input_file:\n",
    "                items = line.split(\"\\t\")\n",
    "                item = dict()\n",
    "                for i in range(len(items)):\n",
    "                    item[self.__transform[header[i]]] = items[i].strip() if items[i]!=\"\\n\" else \"\"\n",
    "                self.__omim_gene_phenotypec.append(item)\n",
    "                self.__omim_gene_symbol[item[\"gene-symbol\"]] = 1\n",
    " \n",
    "    def insert_omim(self,graph):\n",
    "        for i in self.__omim:\n",
    "            try:\n",
    "                graph.addV('OMIM').property(T.id,i[\"omim_id\"]).property(\"disease_name_en\", i[\"disease_name_en\"]).property(\"disease_name_cn\",i[\"disease_name_cn\"]).next()\n",
    "            except Exception as e:\n",
    "                pass\n",
    "\n",
    "    def insert_omim_gene(self,graph):\n",
    "        existslist = dict()\n",
    "        existsgene = dict()\n",
    "        for i in self.__omim_gene_phenotypec:\n",
    "            if i[\"gene-symbol\"] not in existsgene.keys():\n",
    "                try:\n",
    "                    graph.addV('Gene').property(T.id,i[\"gene-symbol\"]).property(\"gene-id\",i[\"gene-id\"]).next()\n",
    "                    existsgene[i[\"gene-symbol\"]] = 1\n",
    "                except Exception as e:\n",
    "                    pass\n",
    "            if i[\"omim_id\"] in self.__omim_id.keys() and i[\"omim_id\"] + i[\"gene-symbol\"] not in existslist:\n",
    "                try:\n",
    "                    graph.V(i[\"omim_id\"]).hasLabel('OMIM').addE('disease_to_gene').to(graph.V(i[\"gene-symbol\"]).hasLabel('Gene')).next()\n",
    "                    existslist[i[\"omim_id\"] + i[\"gene-symbol\"]] = 1\n",
    "                except Exception as e:\n",
    "                    pass\n",
    "    \n",
    "    def insert_gene_phenotypic(self,graph,l_limit=50000):\n",
    "        l_count = 0\n",
    "        for i in self.__omim_gene_phenotypec:\n",
    "            if i[\"gene-symbol\"] in self.__omim_gene_symbol.keys():\n",
    "                try:\n",
    "                    graph.V(i[\"gene-symbol\"]).hasLabel(\"Gene\").addE('gene_to_phenotypes').to(graph.V(i[\"hpo_id\"]).hasLabel('Phenotypic')).next()\n",
    "                    l_count += 1\n",
    "                except Exception as e:\n",
    "                    pass\n",
    "            if l_count == l_limit:break; \n",
    "\n",
    "\n",
    "# 创建数据库连接，初始化类对象\n",
    "graph = Graph()\n",
    "remoteConn = DriverRemoteConnection('wss://{}:8182/gremlin'.format(os.environ.get('GRAPH_NOTEBOOK_HOST')),'g')\n",
    "g = graph.traversal().withRemote(remoteConn)\n",
    "\n",
    "Disease = OMIM(omim=\"Data/OMIM/OMIM_Disease.txt\",omim_gene_phenotypic=\"Data/OMIM/OMIM_ALL_FREQUENCIES_diseases_to_genes_to_phenotypes.txt\")\n",
    "\n"
   ]
  },
  {
   "cell_type": "markdown",
   "metadata": {},
   "source": [
    "## 导入疾病实体\n",
    "约30s"
   ]
  },
  {
   "cell_type": "code",
   "execution_count": 673,
   "metadata": {
    "scrolled": false
   },
   "outputs": [
    {
     "name": "stdout",
     "output_type": "stream",
     "text": [
      "CPU times: user 4.3 s, sys: 822 ms, total: 5.12 s\n",
      "Wall time: 32.6 s\n"
     ]
    }
   ],
   "source": [
    "%time Disease.insert_omim(g)"
   ]
  },
  {
   "cell_type": "markdown",
   "metadata": {},
   "source": [
    "## 导入疾病与基因关联\n",
    "约3min"
   ]
  },
  {
   "cell_type": "code",
   "execution_count": 700,
   "metadata": {},
   "outputs": [
    {
     "name": "stdout",
     "output_type": "stream",
     "text": [
      "CPU times: user 23 s, sys: 4.39 s, total: 27.3 s\n",
      "Wall time: 3min 4s\n"
     ]
    }
   ],
   "source": [
    "%time Disease.insert_omim_gene(g)"
   ]
  },
  {
   "cell_type": "markdown",
   "metadata": {},
   "source": [
    "## 导入基因与表型的关联\n",
    "约26min"
   ]
  },
  {
   "cell_type": "code",
   "execution_count": null,
   "metadata": {
    "scrolled": true
   },
   "outputs": [],
   "source": [
    "%time Disease.insert_gene_phenotypic(g,l_limit=-1)"
   ]
  },
  {
   "cell_type": "markdown",
   "metadata": {},
   "source": [
    "按label分组统计点的数量\n",
    "![example](https://raw.githubusercontent.com/hy714335634/Genomics-in-Neptune---workshop/main/Analyses%20of%20Complex%20Diseases%20and%20Human%20Disease%20Network/Img/WX20201207-201240.png)"
   ]
  },
  {
   "cell_type": "code",
   "execution_count": 5,
   "metadata": {
    "scrolled": false
   },
   "outputs": [
    {
     "data": {
      "application/vnd.jupyter.widget-view+json": {
       "model_id": "d87e562cdd7941fe953f21d408cd7917",
       "version_major": 2,
       "version_minor": 0
      },
      "text/plain": [
       "Tab(children=(Output(layout=Layout(max_height='600px', overflow='scroll', width='100%')),), _titles={'0': 'Con…"
      ]
     },
     "metadata": {},
     "output_type": "display_data"
    }
   ],
   "source": [
    "%%gremlin\n",
    "g.V().groupCount().by(label).order(local).by(values, Order.decr).unfold()"
   ]
  },
  {
   "attachments": {},
   "cell_type": "markdown",
   "metadata": {},
   "source": [
    "### 按label分组统计边的数量\n",
    "![example](https://raw.githubusercontent.com/hy714335634/Genomics-in-Neptune---workshop/main/Analyses%20of%20Complex%20Diseases%20and%20Human%20Disease%20Network/Img/WX20201207-201313.png)"
   ]
  },
  {
   "cell_type": "code",
   "execution_count": 6,
   "metadata": {},
   "outputs": [
    {
     "data": {
      "application/vnd.jupyter.widget-view+json": {
       "model_id": "77c398877eb14767acd444d51e5beb28",
       "version_major": 2,
       "version_minor": 0
      },
      "text/plain": [
       "Tab(children=(Output(layout=Layout(max_height='600px', overflow='scroll', width='100%')),), _titles={'0': 'Con…"
      ]
     },
     "metadata": {},
     "output_type": "display_data"
    }
   ],
   "source": [
    "%%gremlin\n",
    "g.E().groupCount().by(label).order(local).by(values, Order.decr).unfold()"
   ]
  },
  {
   "attachments": {},
   "cell_type": "markdown",
   "metadata": {},
   "source": [
    "到目前我们构建了从疾病到基因，再到表型及其分类的网络，从主体关联上虽然很简单，但实际的每个实体间的关系都是多对多的关系\n",
    "![example](https://raw.githubusercontent.com/hy714335634/Genomics-in-Neptune---workshop/main/Analyses%20of%20Complex%20Diseases%20and%20Human%20Disease%20Network/Img/WX20201207-201641.png)"
   ]
  },
  {
   "attachments": {},
   "cell_type": "markdown",
   "metadata": {},
   "source": [
    "我们可以尝试查找从 **Gitelman综合征** —> Gene —> 表型 —> 表型分类路径\n",
    "![example](https://raw.githubusercontent.com/hy714335634/Genomics-in-Neptune---workshop/main/Analyses%20of%20Complex%20Diseases%20and%20Human%20Disease%20Network/Img/WX20201207-201357.png)"
   ]
  },
  {
   "cell_type": "code",
   "execution_count": 1,
   "metadata": {},
   "outputs": [
    {
     "data": {
      "application/vnd.jupyter.widget-view+json": {
       "model_id": "3d10b5d54deb4e50a9274a46ad58e437",
       "version_major": 2,
       "version_minor": 0
      },
      "text/plain": [
       "Tab(children=(Output(layout=Layout(max_height='600px', overflow='scroll', width='100%')), Force(network=<graph…"
      ]
     },
     "metadata": {},
     "output_type": "display_data"
    }
   ],
   "source": [
    "%%gremlin -p v,outv,outv,outv\n",
    "g.V().hasLabel('OMIM').has('disease_name_cn','Gitelman综合征')\n",
    ".out()\n",
    ".out()\n",
    ".out()\n",
    ".simplepath()\n",
    ".by('disease_name_cn')\n",
    ".by(id)\n",
    ".by('name_cn')\n",
    ".by(id)\n",
    ".limit(180)"
   ]
  },
  {
   "cell_type": "code",
   "execution_count": null,
   "metadata": {},
   "outputs": [],
   "source": []
  }
 ],
 "metadata": {
  "kernelspec": {
   "display_name": "Python 3",
   "language": "python",
   "name": "python3"
  },
  "language_info": {
   "codemirror_mode": {
    "name": "ipython",
    "version": 3
   },
   "file_extension": ".py",
   "mimetype": "text/x-python",
   "name": "python",
   "nbconvert_exporter": "python",
   "pygments_lexer": "ipython3",
   "version": "3.7.9"
  }
 },
 "nbformat": 4,
 "nbformat_minor": 4
}
